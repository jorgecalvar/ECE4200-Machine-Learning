{
 "cells": [
  {
   "cell_type": "markdown",
   "metadata": {
    "collapsed": true,
    "pycharm": {
     "name": "#%% md\n"
    }
   },
   "source": [
    "# ECE4200 - Kaggle competition\n",
    "### Jorge Calvar (jc2767)"
   ]
  },
  {
   "cell_type": "markdown",
   "source": [
    "## Imports"
   ],
   "metadata": {
    "collapsed": false
   }
  },
  {
   "cell_type": "code",
   "execution_count": 4,
   "outputs": [],
   "source": [
    "import numpy as np\n",
    "import pandas as pd\n",
    "from scipy.io import wavfile\n",
    "from pathlib import Path\n",
    "import tqdm\n",
    "\n",
    "\n",
    "from matplotlib import pyplot as plt\n",
    "\n",
    "from sklearn.model_selection import train_test_split\n",
    "from sklearn.metrics import accuracy_score\n",
    "\n",
    "\n",
    "from scipy.fft import fft\n",
    "from scipy.signal import spectrogram"
   ],
   "metadata": {
    "collapsed": false,
    "pycharm": {
     "name": "#%%\n"
    }
   }
  },
  {
   "cell_type": "markdown",
   "source": [
    "## Parameters"
   ],
   "metadata": {
    "collapsed": false
   }
  },
  {
   "cell_type": "code",
   "execution_count": 5,
   "outputs": [],
   "source": [
    "\n",
    "N_SAMPLES = 50000\n",
    "\n",
    "TRAIN_DIR = Path('kaggle/input/spoken-digit-pair-recognition/train/train_new')\n",
    "TEST_DIR = Path('kaggle/input/spoken-digit-pair-recognition/test/test_new')\n",
    "TRAIN_DIR_43 = Path('kaggle/input/spoken-digit-pair-recognition/train_43')\n",
    "WORKING_DIR = Path('kaggle/working')"
   ],
   "metadata": {
    "collapsed": false,
    "pycharm": {
     "name": "#%%\n"
    }
   }
  },
  {
   "cell_type": "markdown",
   "source": [
    "## Exploring"
   ],
   "metadata": {
    "collapsed": false
   }
  },
  {
   "cell_type": "code",
   "execution_count": 6,
   "outputs": [
    {
     "data": {
      "text/plain": "    Label\nID       \n0      21\n1      32\n2      31\n3      31\n4      41",
      "text/html": "<div>\n<style scoped>\n    .dataframe tbody tr th:only-of-type {\n        vertical-align: middle;\n    }\n\n    .dataframe tbody tr th {\n        vertical-align: top;\n    }\n\n    .dataframe thead th {\n        text-align: right;\n    }\n</style>\n<table border=\"1\" class=\"dataframe\">\n  <thead>\n    <tr style=\"text-align: right;\">\n      <th></th>\n      <th>Label</th>\n    </tr>\n    <tr>\n      <th>ID</th>\n      <th></th>\n    </tr>\n  </thead>\n  <tbody>\n    <tr>\n      <th>0</th>\n      <td>21</td>\n    </tr>\n    <tr>\n      <th>1</th>\n      <td>32</td>\n    </tr>\n    <tr>\n      <th>2</th>\n      <td>31</td>\n    </tr>\n    <tr>\n      <th>3</th>\n      <td>31</td>\n    </tr>\n    <tr>\n      <th>4</th>\n      <td>41</td>\n    </tr>\n  </tbody>\n</table>\n</div>"
     },
     "execution_count": 6,
     "metadata": {},
     "output_type": "execute_result"
    }
   ],
   "source": [
    "train_labels = pd.read_csv('kaggle/input/spoken-digit-pair-recognition/train.csv', index_col='ID')\n",
    "train_labels.head()"
   ],
   "metadata": {
    "collapsed": false,
    "pycharm": {
     "name": "#%%\n"
    }
   }
  },
  {
   "cell_type": "code",
   "execution_count": 7,
   "outputs": [
    {
     "data": {
      "text/plain": "    Label\nID       \n0      21\n1      21\n2      21\n3      21\n4      21",
      "text/html": "<div>\n<style scoped>\n    .dataframe tbody tr th:only-of-type {\n        vertical-align: middle;\n    }\n\n    .dataframe tbody tr th {\n        vertical-align: top;\n    }\n\n    .dataframe thead th {\n        text-align: right;\n    }\n</style>\n<table border=\"1\" class=\"dataframe\">\n  <thead>\n    <tr style=\"text-align: right;\">\n      <th></th>\n      <th>Label</th>\n    </tr>\n    <tr>\n      <th>ID</th>\n      <th></th>\n    </tr>\n  </thead>\n  <tbody>\n    <tr>\n      <th>0</th>\n      <td>21</td>\n    </tr>\n    <tr>\n      <th>1</th>\n      <td>21</td>\n    </tr>\n    <tr>\n      <th>2</th>\n      <td>21</td>\n    </tr>\n    <tr>\n      <th>3</th>\n      <td>21</td>\n    </tr>\n    <tr>\n      <th>4</th>\n      <td>21</td>\n    </tr>\n  </tbody>\n</table>\n</div>"
     },
     "execution_count": 7,
     "metadata": {},
     "output_type": "execute_result"
    }
   ],
   "source": [
    "sample_sub = pd.read_csv('kaggle/input/spoken-digit-pair-recognition/sample_sub.csv', index_col='ID')\n",
    "sample_sub.head()"
   ],
   "metadata": {
    "collapsed": false,
    "pycharm": {
     "name": "#%%\n"
    }
   }
  },
  {
   "cell_type": "code",
   "execution_count": 8,
   "outputs": [
    {
     "name": "stdout",
     "output_type": "stream",
     "text": [
      "Max train file: 89999\n",
      "Max test file: 24749\n"
     ]
    }
   ],
   "source": [
    "max_files = []\n",
    "for d in [TRAIN_DIR, TEST_DIR]:\n",
    "    max_file = 0\n",
    "    for f in d.iterdir():\n",
    "        i = int(f.name[f.name.index('_')+1:-4])\n",
    "        max_file = np.max([max_file, i])\n",
    "    max_files.append(max_file)\n",
    "print(f'Max train file: {max_files[0]}')\n",
    "print(f'Max test file: {max_files[1]}')"
   ],
   "metadata": {
    "collapsed": false,
    "pycharm": {
     "name": "#%%\n"
    }
   }
  },
  {
   "cell_type": "markdown",
   "source": [
    "## Functions"
   ],
   "metadata": {
    "collapsed": false
   }
  },
  {
   "cell_type": "code",
   "execution_count": 9,
   "outputs": [],
   "source": [
    "def get_audio(i, train=True, dir=None):\n",
    "    if dir is None:\n",
    "        dir = TRAIN_DIR if train else TEST_DIR\n",
    "    if dir == TRAIN_DIR:\n",
    "        base = 'train'\n",
    "    else:\n",
    "        base = 'test'\n",
    "    file = dir / f'{base}_{i}.wav'\n",
    "    _, data = wavfile.read(file)\n",
    "    return data\n",
    "\n",
    "\n",
    "def convert_dataframe_to_numpy(df):\n",
    "    for i in range(6000):\n",
    "        df[f'x_{i}'] = df['data'].apply(lambda r: r[i])\n",
    "    del df['data']\n",
    "    array_final = df.to_numpy()\n",
    "    return array_final\n",
    "\n",
    "\n",
    "def try_model(model, X_train, X_val, y_train, y_val):\n",
    "    model.fit(X_train, y_train)\n",
    "    acc_train = accuracy_score(y_train, model.predict(X_train))\n",
    "    acc_test = accuracy_score(y_val, model.predict(X_val))\n",
    "    return acc_train, acc_test\n",
    "\n",
    "\n",
    "def try_models(models, X_train, X_val, y_train, y_val):\n",
    "    df = pd.DataFrame()\n",
    "    for model in models:\n",
    "        acc_train, acc_test = try_model(model, X_train, X_val, y_train, y_val)\n",
    "        df.loc[len(df), ['Model', 'Train accuracy', 'Validation accuracy']] = [model, acc_train, acc_test]\n",
    "    return df"
   ],
   "metadata": {
    "collapsed": false,
    "pycharm": {
     "name": "#%%\n"
    }
   }
  },
  {
   "cell_type": "markdown",
   "source": [
    "## Preprocessing"
   ],
   "metadata": {
    "collapsed": false
   }
  },
  {
   "cell_type": "code",
   "execution_count": 80,
   "outputs": [],
   "source": [
    "# TRAIN\n",
    "\n",
    "n_batch = np.arange(90000)\n",
    "np.random.shuffle(n_batch)\n",
    "n_batch = n_batch[:N_SAMPLES]\n",
    "\n",
    "audios = [get_audio(i) for i in n_batch]\n",
    "labels = [train_labels.at[i, 'Label'] for i in n_batch]\n",
    "\n",
    "audios = [data/np.max(data) for data in audios]\n",
    "\n"
   ],
   "metadata": {
    "collapsed": false,
    "pycharm": {
     "name": "#%%\n"
    }
   }
  },
  {
   "cell_type": "markdown",
   "source": [
    "#### Testing samples (43)"
   ],
   "metadata": {
    "collapsed": false
   }
  },
  {
   "cell_type": "code",
   "execution_count": 81,
   "outputs": [],
   "source": [
    "# Testing samples with label 43 that will be used to train\n",
    "\n",
    "indexes_43 = [int(f.name[f.name.index('_')+1:f.name.index('.')]) for f in TRAIN_DIR_43.iterdir()]\n",
    "audios_43 = [get_audio(i, dir=TRAIN_DIR_43) for i in indexes_43]\n",
    "audios_43 = [data/np.max(data) for data in audios_43]\n"
   ],
   "metadata": {
    "collapsed": false,
    "pycharm": {
     "name": "#%%\n"
    }
   }
  },
  {
   "cell_type": "code",
   "execution_count": 86,
   "outputs": [],
   "source": [
    "# Augmentation functions\n",
    "import librosa\n",
    "\n",
    "def add_noise(data, noise_factor):\n",
    "    noise = np.random.randn(len(data))\n",
    "    augmented_data = data + noise_factor * noise\n",
    "    # Cast back to same data type\n",
    "    augmented_data = augmented_data.astype(type(data[0]))\n",
    "    return augmented_data\n",
    "\n",
    "def add_time_shift(data, sampling_rate, shift_max, shift_direction):\n",
    "    shift = np.random.randint(sampling_rate * shift_max)\n",
    "    if shift_direction == 'right':\n",
    "        shift = -shift\n",
    "    elif shift_direction == 'both':\n",
    "        direction = np.random.randint(0, 2)\n",
    "        if direction == 1:\n",
    "            shift = -shift\n",
    "    augmented_data = np.roll(data, shift)\n",
    "    # Set to silence for heading/ tailing\n",
    "    if shift > 0:\n",
    "        augmented_data[:shift] = 0\n",
    "    else:\n",
    "        augmented_data[shift:] = 0\n",
    "    return augmented_data\n",
    "\n",
    "\n",
    "def add_pitch_shift(data, sampling_rate, pitch_factor):\n",
    "    return librosa.effects.pitch_shift(data, sampling_rate, pitch_factor)\n",
    "\n",
    "def add_speed_change(data, speed_factor):\n",
    "    return librosa.effects.time_stretch(data, speed_factor)\n",
    "\n"
   ],
   "metadata": {
    "collapsed": false,
    "pycharm": {
     "name": "#%%\n"
    }
   }
  },
  {
   "cell_type": "code",
   "execution_count": 116,
   "outputs": [],
   "source": [
    "REPETITIONS_PER_SAMPLE = N_SAMPLES//(9*len(indexes_43))-len(audios_43)\n",
    "\n",
    "augmented_audios_43 = []\n",
    "\n",
    "for i in range(REPETITIONS_PER_SAMPLE // 4):\n",
    "    for j in range(len(indexes_43)):\n",
    "\n",
    "        data = audios_43[j]\n",
    "\n",
    "        # Noise\n",
    "        noise_factor = 0.0015\n",
    "        new_audio = add_noise(data, noise_factor)\n",
    "        augmented_audios_43.append(new_audio)\n",
    "\n",
    "        # Time shift\n",
    "        shift_max = 0.3\n",
    "        new_audio = add_time_shift(data, 8000, shift_max, 'right')\n",
    "        augmented_audios_43.append(new_audio)\n",
    "\n",
    "        # Pitch shift\n",
    "        pitch_factor = np.random.randint(-4,5)\n",
    "        new_audio = add_pitch_shift(data, 8000, pitch_factor)\n",
    "        augmented_audios_43.append(new_audio)\n",
    "\n",
    "        # Speed change\n",
    "        speed_factor = np.random.rand()*0.5+1\n",
    "        new_audio = add_speed_change(data, speed_factor)\n",
    "        new_audio = np.concatenate((new_audio, np.zeros(6000-new_audio.size)))\n",
    "        augmented_audios_43.append(new_audio)\n",
    "\n",
    "\n"
   ],
   "metadata": {
    "collapsed": false,
    "pycharm": {
     "name": "#%%\n"
    }
   }
  },
  {
   "cell_type": "code",
   "execution_count": 160,
   "outputs": [],
   "source": [
    "#final_audios = audios + audios_43 + augmented_audios_43\n",
    "#final_labels = labels + ([43]*(len(audios_43)+len(augmented_audios_43)))\n",
    "final_audios = audios + audios_43*5\n",
    "final_labels = labels + ([43]*(len(audios_43)*5))"
   ],
   "metadata": {
    "collapsed": false,
    "pycharm": {
     "name": "#%%\n"
    }
   }
  },
  {
   "cell_type": "code",
   "execution_count": 161,
   "outputs": [],
   "source": [
    "# Modification"
   ],
   "metadata": {
    "collapsed": false,
    "pycharm": {
     "name": "#%%\n"
    }
   }
  },
  {
   "cell_type": "code",
   "execution_count": 162,
   "outputs": [],
   "source": [
    "df_x = pd.DataFrame(data={'data': final_audios, 'label': final_labels})\n",
    "array_final = convert_dataframe_to_numpy(df_x.copy())"
   ],
   "metadata": {
    "collapsed": false,
    "pycharm": {
     "name": "#%%\n"
    }
   }
  },
  {
   "cell_type": "code",
   "execution_count": 163,
   "outputs": [],
   "source": [
    "X_train, X_val, y_train, y_val = train_test_split(array_final[:, 1:], array_final[:, 0], test_size=0.1)"
   ],
   "metadata": {
    "collapsed": false,
    "pycharm": {
     "name": "#%%\n"
    }
   }
  },
  {
   "cell_type": "code",
   "execution_count": 177,
   "outputs": [
    {
     "data": {
      "text/plain": "                                                 data\nID                                                   \n0   [0.12012085329752495, 0.12765892513809626, 0.0...\n1   [-0.0043183486634710885, 0.04305393617480675, ...\n2   [-0.07535019989623706, -0.05340739158299509, -...\n3   [-0.050355540635395366, -0.04278695028534806, ...\n4   [-0.10269478438673055, -0.06418042542802209, -...",
      "text/html": "<div>\n<style scoped>\n    .dataframe tbody tr th:only-of-type {\n        vertical-align: middle;\n    }\n\n    .dataframe tbody tr th {\n        vertical-align: top;\n    }\n\n    .dataframe thead th {\n        text-align: right;\n    }\n</style>\n<table border=\"1\" class=\"dataframe\">\n  <thead>\n    <tr style=\"text-align: right;\">\n      <th></th>\n      <th>data</th>\n    </tr>\n    <tr>\n      <th>ID</th>\n      <th></th>\n    </tr>\n  </thead>\n  <tbody>\n    <tr>\n      <th>0</th>\n      <td>[0.12012085329752495, 0.12765892513809626, 0.0...</td>\n    </tr>\n    <tr>\n      <th>1</th>\n      <td>[-0.0043183486634710885, 0.04305393617480675, ...</td>\n    </tr>\n    <tr>\n      <th>2</th>\n      <td>[-0.07535019989623706, -0.05340739158299509, -...</td>\n    </tr>\n    <tr>\n      <th>3</th>\n      <td>[-0.050355540635395366, -0.04278695028534806, ...</td>\n    </tr>\n    <tr>\n      <th>4</th>\n      <td>[-0.10269478438673055, -0.06418042542802209, -...</td>\n    </tr>\n  </tbody>\n</table>\n</div>"
     },
     "execution_count": 177,
     "metadata": {},
     "output_type": "execute_result"
    }
   ],
   "source": [
    "# TEST\n",
    "\n",
    "df_test = pd.DataFrame(columns=['data'])\n",
    "df_test.index.name = 'ID'\n",
    "\n",
    "for i in range(24750):\n",
    "    data = get_audio(i, train=False)\n",
    "    data = data/np.max(data)\n",
    "    df_test.loc[i, 'data'] = data\n",
    "\n",
    "# Numpy\n",
    "X_test = convert_dataframe_to_numpy(df_test.copy())\n",
    "\n",
    "df_test.head()\n"
   ],
   "metadata": {
    "collapsed": false,
    "pycharm": {
     "name": "#%%\n"
    }
   }
  },
  {
   "cell_type": "markdown",
   "source": [
    "## Spectrogram creation\n"
   ],
   "metadata": {
    "collapsed": false,
    "pycharm": {
     "name": "#%% md\n"
    }
   }
  },
  {
   "cell_type": "code",
   "execution_count": 178,
   "outputs": [],
   "source": [
    "def get_spectrogram(audio, fs=8000):\n",
    "    _, _, Sxx = spectrogram(audio, fs=fs)\n",
    "    return Sxx\n",
    "\n",
    "# TRAIN\n",
    "\n",
    "df_x2 = df_x.copy()\n",
    "df_x2['data'] = df_x2['data'].apply(lambda x: get_spectrogram(x))\n",
    "\n",
    "df_x2.head()\n",
    "\n",
    "# TEST\n",
    "\n",
    "df_test2 = df_test.copy()\n",
    "df_test2['data'] = df_test2['data'].apply(lambda x: get_spectrogram(x))\n",
    "\n",
    "# Convertimos a numpy\n",
    "X_test2 = np.zeros((len(df_test2),1)+df_test2.iloc[0,0].shape)\n",
    "for i, (index, r) in enumerate(df_test2.iterrows()):\n",
    "    X_test2[i,0] = r['data']\n"
   ],
   "metadata": {
    "collapsed": false,
    "pycharm": {
     "name": "#%%\n"
    }
   }
  },
  {
   "cell_type": "code",
   "execution_count": 165,
   "outputs": [],
   "source": [
    "X2 = np.zeros((len(df_x2),1)+df_x2.iloc[0,0].shape)\n",
    "Y2 = np.zeros((len(X2),))\n",
    "for i, (index, r) in enumerate(df_x2.iterrows()):\n",
    "    X2[i,0] = r['data']\n",
    "    Y2[i] = r['label']"
   ],
   "metadata": {
    "collapsed": false,
    "pycharm": {
     "name": "#%%\n"
    }
   }
  },
  {
   "cell_type": "code",
   "execution_count": 166,
   "outputs": [],
   "source": [
    "X_train2, X_val2, y_train2, y_val2 = train_test_split(X2, Y2, test_size=0.1)"
   ],
   "metadata": {
    "collapsed": false,
    "pycharm": {
     "name": "#%%\n"
    }
   }
  },
  {
   "cell_type": "markdown",
   "source": [
    "## PyTorch"
   ],
   "metadata": {
    "collapsed": false
   }
  },
  {
   "cell_type": "code",
   "execution_count": 19,
   "outputs": [],
   "source": [
    "import torch\n",
    "from torch import nn\n",
    "import torch.nn.functional as F"
   ],
   "metadata": {
    "collapsed": false,
    "pycharm": {
     "name": "#%%\n"
    }
   }
  },
  {
   "cell_type": "markdown",
   "source": [
    "#### Tensor creation"
   ],
   "metadata": {
    "collapsed": false
   }
  },
  {
   "cell_type": "code",
   "execution_count": 182,
   "outputs": [],
   "source": [
    "# TENSOR CREATION\n",
    "\n",
    "\n",
    "# SET 1: WITHOUT SPECTROGRAM\n",
    "\n",
    "X_train_tensor = torch.from_numpy(X_train).float()\n",
    "X_val_tensor = torch.from_numpy(X_val).float()\n",
    "X_test_tensor = torch.from_numpy(X_test).float()\n",
    "\n",
    "y_train_tensor = torch.from_numpy(y_train.astype(np.int64))\n",
    "y_val_tensor = torch.from_numpy(y_val.astype(np.int64))\n",
    "\n",
    "# For initial model\n",
    "y_train_dict = {}\n",
    "y_val_dict = {}\n",
    "# Created later, for unique model\n",
    "y_train_sep = torch.zeros((y_train_tensor.shape[0], 4), dtype=torch.int64)\n",
    "y_val_sep = torch.zeros((y_val_tensor.shape[0], 4), dtype=torch.int64)\n",
    "for i in range(1,5):\n",
    "    vf = np.vectorize(lambda x: str(i) in str(x))\n",
    "    y_train_dict[i] = torch.from_numpy((vf(y_train)).astype(np.int64))\n",
    "    y_val_dict[i] = torch.from_numpy((vf(y_val)).astype(np.int64))\n",
    "    y_train_sep[:, i - 1] = y_train_dict[i]\n",
    "    y_val_sep[:, i - 1] = y_val_dict[i]\n",
    "\n",
    "\n",
    "# SET 2: WITH SPECTROGRAM\n",
    "\n",
    "X_train2_tensor = torch.from_numpy(X_train2).float()\n",
    "X_val2_tensor = torch.from_numpy(X_val2).float()\n",
    "X_test2_tensor = torch.from_numpy(X_test2).float()\n",
    "\n",
    "y_train2_dict = {}\n",
    "y_val2_dict = {}\n",
    "y_train2_sep = torch.zeros((y_train_tensor.shape[0], 4), dtype=torch.int64)\n",
    "y_val2_sep = torch.zeros((y_val_tensor.shape[0], 4), dtype=torch.int64)\n",
    "for i in range(1,5):\n",
    "    vf = np.vectorize(lambda x: str(i) in str(x))\n",
    "    y_train2_dict[i] = torch.from_numpy((vf(y_train2)).astype(np.int64))\n",
    "    y_val2_dict[i] = torch.from_numpy((vf(y_val2)).astype(np.int64))\n",
    "    y_train2_sep[:,i-1] = y_train2_dict[i]\n",
    "    y_val2_sep[:,i-1] = y_val2_dict[i]\n",
    "\n"
   ],
   "metadata": {
    "collapsed": false,
    "pycharm": {
     "name": "#%%\n"
    }
   }
  },
  {
   "cell_type": "code",
   "execution_count": 183,
   "outputs": [],
   "source": [
    "SET = 2\n",
    "\n",
    "# FINAL SELECTIONS\n",
    "\n",
    "if SET == 1:\n",
    "    final_X_train = X_train_tensor\n",
    "    final_X_val = X_val_tensor\n",
    "    final_X_test = X_test_tensor\n",
    "    final_y_train = y_train_dict\n",
    "    final_y_val = y_val_dict\n",
    "    final_y_train_sep = y_train_sep\n",
    "    final_y_val_sep = y_val_sep\n",
    "    final_y_train_real = y_train\n",
    "    final_y_val_real = y_val\n",
    "elif SET == 2:\n",
    "    final_X_train = X_train2_tensor\n",
    "    final_X_val = X_val2_tensor\n",
    "    final_X_test = X_test2_tensor\n",
    "    final_y_train = y_train2_dict\n",
    "    final_y_val = y_val2_dict\n",
    "    final_y_train_sep = y_train2_sep\n",
    "    final_y_val_sep = y_val2_sep\n",
    "    final_y_train_real = y_train2\n",
    "    final_y_val_real = y_val2\n",
    "\n",
    "\n"
   ],
   "metadata": {
    "collapsed": false,
    "pycharm": {
     "name": "#%%\n"
    }
   }
  },
  {
   "cell_type": "markdown",
   "source": [
    "## Method 1: 4 different models"
   ],
   "metadata": {
    "collapsed": false
   }
  },
  {
   "cell_type": "markdown",
   "source": [
    "#### Model"
   ],
   "metadata": {
    "collapsed": false
   }
  },
  {
   "cell_type": "code",
   "execution_count": 43,
   "outputs": [],
   "source": [
    "class Net1(nn.Module):\n",
    "\n",
    "    def __init__(self):\n",
    "        super().__init__()\n",
    "        self.layers = nn.Sequential(\n",
    "            nn.Flatten(),\n",
    "            nn.LazyBatchNorm1d(),\n",
    "            nn.LazyLinear(500),\n",
    "            nn.LazyBatchNorm1d(),\n",
    "            nn.LazyLinear(100),\n",
    "            nn.LazyBatchNorm1d(),\n",
    "            nn.LazyLinear(2)\n",
    "        )\n",
    "\n",
    "    def forward(self, x):\n",
    "        #x = self.pool(self.conv1(x))\n",
    "        #x = self.pool(self.conv2(x))\n",
    "        return self.layers(x)\n",
    "\n",
    "class Net2(nn.Module):\n",
    "\n",
    "    def __init__(self):\n",
    "        super().__init__()\n",
    "        self.layers = nn.Sequential(\n",
    "            nn.Flatten(),\n",
    "            nn.LazyBatchNorm1d(),\n",
    "            nn.LazyLinear(300),\n",
    "            nn.ReLU(),\n",
    "            #nn.Dropout(p=0.5),\n",
    "            nn.LazyLinear(300),\n",
    "            nn.ReLU(),\n",
    "            nn.LazyLinear(100),\n",
    "            nn.ReLU(),\n",
    "            nn.LazyLinear(2)\n",
    "        )\n",
    "\n",
    "    def forward(self, x):\n",
    "        #x = self.pool(self.conv1(x))\n",
    "        #x = self.pool(self.conv2(x))\n",
    "        return self.layers(x)\n",
    "\n",
    "\n"
   ],
   "metadata": {
    "collapsed": false,
    "pycharm": {
     "name": "#%%\n"
    }
   }
  },
  {
   "cell_type": "markdown",
   "source": [
    "#### Training function"
   ],
   "metadata": {
    "collapsed": false,
    "pycharm": {
     "name": "#%% md\n"
    }
   }
  },
  {
   "cell_type": "code",
   "execution_count": 68,
   "outputs": [],
   "source": [
    "\n",
    "def train_model(model, n_epochs, X_train, y_train, X_test, y_test):\n",
    "    criterion = nn.CrossEntropyLoss()\n",
    "    optimizer = torch.optim.Adam(model.parameters())\n",
    "\n",
    "    training_loss = []\n",
    "    training_acc = []\n",
    "    testing_acc = []\n",
    "\n",
    "    continuous_perfect_test = 0\n",
    "\n",
    "    for i in tqdm.tqdm(range(n_epochs)):\n",
    "\n",
    "        optimizer.zero_grad()\n",
    "        outputs = model(X_train)\n",
    "        loss = criterion(outputs, y_train)\n",
    "        training_loss.append(loss)\n",
    "        training_acc.append(torch.sum(torch.argmax(outputs, dim=1) == y_train)/y_train.shape[0])\n",
    "        test_acc_i = torch.sum(torch.argmax(model(X_test), dim=1) == y_test)/y_test.shape[0]\n",
    "        testing_acc.append(test_acc_i)\n",
    "        if test_acc_i == 1:\n",
    "            continuous_perfect_test += 1\n",
    "            if continuous_perfect_test == 10:\n",
    "                break\n",
    "        else:\n",
    "            continuous_perfect_test = 0\n",
    "        loss.backward()\n",
    "        optimizer.step()\n",
    "\n",
    "    return training_loss, training_acc, testing_acc\n",
    "\n",
    "\n",
    "\n"
   ],
   "metadata": {
    "collapsed": false,
    "pycharm": {
     "name": "#%%\n"
    }
   }
  },
  {
   "cell_type": "markdown",
   "source": [
    "#### Actual training"
   ],
   "metadata": {
    "collapsed": false
   }
  },
  {
   "cell_type": "code",
   "execution_count": 44,
   "outputs": [
    {
     "name": "stderr",
     "output_type": "stream",
     "text": [
      "C:\\Users\\jorge\\AppData\\Local\\Continuum\\anaconda3\\lib\\site-packages\\torch\\nn\\modules\\lazy.py:178: UserWarning: Lazy modules are a new feature under heavy development so changes to the API or functionality can happen at any moment.\n",
      "  warnings.warn('Lazy modules are a new feature under heavy development '\n",
      " 88%|████████▊ | 88/100 [07:50<01:04,  5.34s/it]\n",
      "100%|██████████| 100/100 [10:24<00:00,  6.24s/it]\n",
      "100%|██████████| 100/100 [10:52<00:00,  6.53s/it]\n",
      "100%|██████████| 100/100 [11:49<00:00,  7.09s/it]\n"
     ]
    },
    {
     "data": {
      "text/plain": "<Figure size 432x288 with 1 Axes>",
      "image/png": "[encoded data removed]"
     },
     "metadata": {
      "needs_background": "light"
     },
     "output_type": "display_data"
    },
    {
     "data": {
      "text/plain": "<Figure size 432x288 with 1 Axes>",
      "image/png": "[encoded data removed]"
     },
     "metadata": {
      "needs_background": "light"
     },
     "output_type": "display_data"
    },
    {
     "data": {
      "text/plain": "<Figure size 432x288 with 1 Axes>",
      "image/png": "[encoded data removed]"
     },
     "metadata": {
      "needs_background": "light"
     },
     "output_type": "display_data"
    },
    {
     "data": {
      "text/plain": "<Figure size 432x288 with 1 Axes>",
      "image/png": "[encoded data removed]"
     },
     "metadata": {
      "needs_background": "light"
     },
     "output_type": "display_data"
    },
    {
     "data": {
      "text/plain": "<Figure size 432x288 with 1 Axes>",
      "image/png": "[encoded data removed]"
     },
     "metadata": {
      "needs_background": "light"
     },
     "output_type": "display_data"
    },
    {
     "data": {
      "text/plain": "<Figure size 432x288 with 1 Axes>",
      "image/png": "[encoded data removed]"
     },
     "metadata": {
      "needs_background": "light"
     },
     "output_type": "display_data"
    },
    {
     "data": {
      "text/plain": "<Figure size 432x288 with 1 Axes>",
      "image/png": "[encoded data removed]"
     },
     "metadata": {
      "needs_background": "light"
     },
     "output_type": "display_data"
    },
    {
     "data": {
      "text/plain": "<Figure size 432x288 with 1 Axes>",
      "image/png": "[encoded data removed]"
     },
     "metadata": {
      "needs_background": "light"
     },
     "output_type": "display_data"
    }
   ],
   "source": [
    "# TRAINING\n",
    "\n",
    "N_EPOCHS = 100\n",
    "\n",
    "models = {}\n",
    "for i in range(1, 5):\n",
    "\n",
    "    net = Net2()\n",
    "    training_loss, training_acc, testing_acc = train_model(\n",
    "                net,\n",
    "                N_EPOCHS,\n",
    "                final_X_train,\n",
    "                final_y_train[i],\n",
    "                final_X_val,\n",
    "                final_y_val[i]\n",
    "    )\n",
    "    models[i] = net\n",
    "\n",
    "\n",
    "    plt.figure()\n",
    "    plt.plot(training_loss)\n",
    "    plt.title(f'Training loss n={i}')\n",
    "\n",
    "    plt.figure()\n",
    "    plt.plot(training_acc, label='Training acc')\n",
    "    plt.plot(testing_acc, label='Testing acc')\n",
    "    plt.title(f'Accuracy n={i}')\n",
    "    plt.legend()"
   ],
   "metadata": {
    "collapsed": false,
    "pycharm": {
     "name": "#%%\n"
    }
   }
  },
  {
   "cell_type": "code",
   "execution_count": 238,
   "outputs": [
    {
     "data": {
      "text/plain": "torch.Size([45000, 1, 129, 26])"
     },
     "execution_count": 238,
     "metadata": {},
     "output_type": "execute_result"
    }
   ],
   "source": [
    "final_X_train.shape\n"
   ],
   "metadata": {
    "collapsed": false,
    "pycharm": {
     "name": "#%%\n"
    }
   }
  },
  {
   "cell_type": "code",
   "execution_count": 20,
   "outputs": [],
   "source": [
    "def get_pred(preds, n):\n",
    "    pred_i = []\n",
    "    for i in range(1,5):\n",
    "        pred_i.append((i, preds[i][n, 1]))\n",
    "    pred_i.sort(key=lambda x: x[1], reverse=True)\n",
    "    n1 = pred_i[0][0]\n",
    "    n2 = pred_i[1][0]\n",
    "    return 10*max(n1, n2)+min(n1, n2)"
   ],
   "metadata": {
    "collapsed": false,
    "pycharm": {
     "name": "#%%\n"
    }
   }
  },
  {
   "cell_type": "markdown",
   "source": [
    "### Final training performance"
   ],
   "metadata": {
    "collapsed": false,
    "pycharm": {
     "name": "#%% md\n"
    }
   }
  },
  {
   "cell_type": "code",
   "execution_count": 45,
   "outputs": [],
   "source": [
    "# We calculate predictions for each model\n",
    "\n",
    "preds = {}\n",
    "for i in range(1,5):\n",
    "    output = models[i](final_X_train)\n",
    "    preds[i] = nn.Softmax(dim=1)(output).detach()\n"
   ],
   "metadata": {
    "collapsed": false,
    "pycharm": {
     "name": "#%%\n"
    }
   }
  },
  {
   "cell_type": "code",
   "execution_count": 46,
   "outputs": [],
   "source": [
    "# We obtain final train predictions\n",
    "df_train_out = pd.DataFrame()\n",
    "for i in range(final_X_train.shape[0]):\n",
    "    df_train_out.loc[i, 'Label'] = get_pred(preds, i)\n",
    "df_train_out.index.name = 'ID'"
   ],
   "metadata": {
    "collapsed": false,
    "pycharm": {
     "name": "#%%\n"
    }
   }
  },
  {
   "cell_type": "code",
   "execution_count": 47,
   "outputs": [
    {
     "data": {
      "text/plain": "1.0"
     },
     "execution_count": 47,
     "metadata": {},
     "output_type": "execute_result"
    }
   ],
   "source": [
    "# We obtain accuracy\n",
    "acc_train = np.mean(df_train_out.to_numpy().flatten() == final_y_train_real)\n",
    "acc_train"
   ],
   "metadata": {
    "collapsed": false,
    "pycharm": {
     "name": "#%%\n"
    }
   }
  },
  {
   "cell_type": "markdown",
   "source": [
    "### Final validation performance"
   ],
   "metadata": {
    "collapsed": false,
    "pycharm": {
     "name": "#%% md\n"
    }
   }
  },
  {
   "cell_type": "code",
   "execution_count": 48,
   "outputs": [],
   "source": [
    "# We calculate predictions for each model\n",
    "\n",
    "preds = {}\n",
    "for i in range(1,5):\n",
    "    output = models[i](final_X_val)\n",
    "    preds[i] = nn.Softmax(dim=1)(output).detach()"
   ],
   "metadata": {
    "collapsed": false,
    "pycharm": {
     "name": "#%%\n"
    }
   }
  },
  {
   "cell_type": "code",
   "execution_count": 49,
   "outputs": [],
   "source": [
    "df_val_out = pd.DataFrame()\n",
    "for i in range(final_X_val.shape[0]):\n",
    "    df_val_out.loc[i, 'Label'] = get_pred(preds, i)\n",
    "df_val_out.index.name = 'ID'"
   ],
   "metadata": {
    "collapsed": false,
    "pycharm": {
     "name": "#%%\n"
    }
   }
  },
  {
   "cell_type": "code",
   "execution_count": 50,
   "outputs": [
    {
     "data": {
      "text/plain": "0.9998"
     },
     "execution_count": 50,
     "metadata": {},
     "output_type": "execute_result"
    }
   ],
   "source": [
    "# We obtain accuracy\n",
    "acc_val = np.mean(df_val_out.to_numpy().flatten() == final_y_val_real)\n",
    "acc_val"
   ],
   "metadata": {
    "collapsed": false,
    "pycharm": {
     "name": "#%%\n"
    }
   }
  },
  {
   "cell_type": "markdown",
   "source": [
    "\n",
    "## Testing set\n"
   ],
   "metadata": {
    "collapsed": false,
    "pycharm": {
     "name": "#%% md\n"
    }
   }
  },
  {
   "cell_type": "code",
   "execution_count": 81,
   "outputs": [
    {
     "data": {
      "text/plain": "                                                 data\nID                                                   \n0   [[379.57758, 20923.59, 14166.862, 22814.756, 8...\n1   [[0.7014259, 1.1677585, 35.454216, 227.3494, 2...\n2   [[32.615494, 7837.592, 309.223, 11478.009, 659...\n3   [[38.34697, 3682.0913, 3083.8462, 136.71426, 2...\n4   [[108.43886, 39.33499, 1278.1526, 3052.5256, 1...",
      "text/html": "<div>\n<style scoped>\n    .dataframe tbody tr th:only-of-type {\n        vertical-align: middle;\n    }\n\n    .dataframe tbody tr th {\n        vertical-align: top;\n    }\n\n    .dataframe thead th {\n        text-align: right;\n    }\n</style>\n<table border=\"1\" class=\"dataframe\">\n  <thead>\n    <tr style=\"text-align: right;\">\n      <th></th>\n      <th>data</th>\n    </tr>\n    <tr>\n      <th>ID</th>\n      <th></th>\n    </tr>\n  </thead>\n  <tbody>\n    <tr>\n      <th>0</th>\n      <td>[[379.57758, 20923.59, 14166.862, 22814.756, 8...</td>\n    </tr>\n    <tr>\n      <th>1</th>\n      <td>[[0.7014259, 1.1677585, 35.454216, 227.3494, 2...</td>\n    </tr>\n    <tr>\n      <th>2</th>\n      <td>[[32.615494, 7837.592, 309.223, 11478.009, 659...</td>\n    </tr>\n    <tr>\n      <th>3</th>\n      <td>[[38.34697, 3682.0913, 3083.8462, 136.71426, 2...</td>\n    </tr>\n    <tr>\n      <th>4</th>\n      <td>[[108.43886, 39.33499, 1278.1526, 3052.5256, 1...</td>\n    </tr>\n  </tbody>\n</table>\n</div>"
     },
     "execution_count": 81,
     "metadata": {},
     "output_type": "execute_result"
    }
   ],
   "source": [
    "# Quick check\n",
    "df_test2.head()\n"
   ],
   "metadata": {
    "collapsed": false,
    "pycharm": {
     "name": "#%%\n"
    }
   }
  },
  {
   "cell_type": "code",
   "execution_count": 264,
   "outputs": [],
   "source": [
    "# Predecimos\n",
    "\n",
    "preds = {}\n",
    "for i in range(1, 5):\n",
    "    output = models[i](final_X_test)\n",
    "    preds[i] = nn.Softmax(dim=1)(output).detach()\n"
   ],
   "metadata": {
    "collapsed": false,
    "pycharm": {
     "name": "#%%\n"
    }
   }
  },
  {
   "cell_type": "code",
   "execution_count": 265,
   "outputs": [],
   "source": [
    "# Creamos el excel final\n",
    "\n",
    "\n",
    "df_test_out = pd.DataFrame()\n",
    "for i in df_test2.index:\n",
    "    df_test_out.loc[i, 'Label'] = get_pred(preds, i)\n",
    "df_test_out.index.name = 'ID'\n",
    "df_test_out['Label'] = df_test_out['Label'].astype(int)\n",
    "df_test_out.to_csv('test_out_0612_v2.csv')\n"
   ],
   "metadata": {
    "collapsed": false,
    "pycharm": {
     "name": "#%%\n"
    }
   }
  },
  {
   "cell_type": "code",
   "execution_count": 90,
   "outputs": [
    {
     "data": {
      "text/plain": "tensor([[4.9942e-06, 9.9999e-01],\n        [9.9999e-01, 1.0025e-05],\n        [1.9315e-04, 9.9981e-01],\n        ...,\n        [9.9841e-01, 1.5866e-03],\n        [7.0612e-04, 9.9929e-01],\n        [9.6816e-01, 3.1844e-02]], grad_fn=<SoftmaxBackward0>)"
     },
     "execution_count": 90,
     "metadata": {},
     "output_type": "execute_result"
    }
   ],
   "source": [],
   "metadata": {
    "collapsed": false,
    "pycharm": {
     "name": "#%%\n"
    }
   }
  },
  {
   "cell_type": "markdown",
   "source": [
    "## Method 2: One model with 4 outputs"
   ],
   "metadata": {
    "collapsed": false
   }
  },
  {
   "cell_type": "markdown",
   "source": [
    "#### The model"
   ],
   "metadata": {
    "collapsed": false
   }
  },
  {
   "cell_type": "code",
   "execution_count": 216,
   "outputs": [],
   "source": [
    "class Net3(nn.Module):\n",
    "\n",
    "    def __init__(self):\n",
    "        super().__init__()\n",
    "        self.layers = nn.Sequential(\n",
    "            nn.Flatten(),\n",
    "\n",
    "            nn.LazyBatchNorm1d(),\n",
    "            nn.LazyLinear(400),\n",
    "            nn.LeakyReLU(),\n",
    "            nn.Dropout(0.25),\n",
    "\n",
    "            nn.LazyBatchNorm1d(),\n",
    "            nn.LazyLinear(400),\n",
    "            nn.LeakyReLU(),\n",
    "            nn.Dropout(0.25),\n",
    "\n",
    "            nn.LazyBatchNorm1d(),\n",
    "            nn.LazyLinear(4),\n",
    "            nn.Sigmoid(),\n",
    "        )\n",
    "\n",
    "    def forward(self, x):\n",
    "        #x = self.pool(self.conv1(x))\n",
    "        #x = self.pool(self.conv2(x))\n",
    "        return self.layers(x)"
   ],
   "metadata": {
    "collapsed": false,
    "pycharm": {
     "name": "#%%\n"
    }
   }
  },
  {
   "cell_type": "markdown",
   "source": [
    "##### Training function"
   ],
   "metadata": {
    "collapsed": false
   }
  },
  {
   "cell_type": "code",
   "execution_count": 149,
   "outputs": [],
   "source": [
    "def train_model_unique(model, X_train, y_train, X_test, y_test, batch_size, n_epochs, epochs_info):\n",
    "    criterions = list(nn.BCELoss() for _ in range(4))\n",
    "    optimizer = torch.optim.Adam(model.parameters())\n",
    "\n",
    "    training_loss = []\n",
    "    training_acc = []\n",
    "    validation_acc = []\n",
    "    final_training_acc = []\n",
    "    final_validation_acc = []\n",
    "\n",
    "\n",
    "    for k in tqdm.tqdm(range(n_epochs)):\n",
    "\n",
    "        batch_indexes = torch.randint(0,X_train.shape[0], (batch_size,))\n",
    "        X_train_epoch = X_train[batch_indexes]\n",
    "        y_train_epoch = y_train[batch_indexes]\n",
    "\n",
    "        optimizer.zero_grad()\n",
    "        outputs = model(X_train_epoch)\n",
    "\n",
    "        l0 = criterions[0](outputs[:,0], y_train_epoch[:,0])\n",
    "        l1 = criterions[1](outputs[:,1], y_train_epoch[:,1])\n",
    "        l2 = criterions[2](outputs[:,2], y_train_epoch[:,2])\n",
    "        l3 = criterions[3](outputs[:,3], y_train_epoch[:,3])\n",
    "        loss = l0+l1+l2+l3\n",
    "\n",
    "        if k%epochs_info == 0:\n",
    "\n",
    "            # INDIVIDUAL ACCURACY\n",
    "\n",
    "            training_loss.append(loss)\n",
    "            training_acc.append(torch.sum((torch.round(model(X_train)) == y_train).type(torch.int))/(y_train.shape[0]*4))\n",
    "            test_acc_i = torch.sum((torch.round(model(X_test)) == y_test).type(torch.int))/(y_test.shape[0]*4)\n",
    "            validation_acc.append(test_acc_i)\n",
    "\n",
    "            # FINAL ACCURACY\n",
    "\n",
    "            # Train accuracy\n",
    "            pred_train = model(final_X_train).detach().numpy()\n",
    "            final_pred_train = get_pred_output(pred_train)\n",
    "            train_acc = np.mean(final_pred_train == final_y_train_real)\n",
    "            final_training_acc.append(train_acc)\n",
    "\n",
    "            # Val accuracy\n",
    "            pred_val = model(final_X_val).detach().numpy()\n",
    "            final_pred_val = get_pred_output(pred_val)\n",
    "            val_acc = np.mean(final_pred_val == final_y_val_real)\n",
    "            final_validation_acc.append(val_acc)\n",
    "\n",
    "\n",
    "\n",
    "        loss.backward()\n",
    "        optimizer.step()\n",
    "\n",
    "    return training_loss, training_acc, validation_acc, final_training_acc, final_validation_acc\n"
   ],
   "metadata": {
    "collapsed": false,
    "pycharm": {
     "name": "#%%\n"
    }
   }
  },
  {
   "cell_type": "code",
   "execution_count": 128,
   "outputs": [],
   "source": [
    "def get_pred_output(pred):\n",
    "    def get_i_pred(pred_i):\n",
    "        a = list(enumerate(pred_i))\n",
    "        a.sort(key=lambda x: x[1], reverse=True)\n",
    "        n1 = a[0][0]+1\n",
    "        n2 = a[1][0]+1\n",
    "        return 10*max(n1, n2)+min(n1,n2)\n",
    "    preds = [get_i_pred(pred[i,:]) for i in range(pred.shape[0])]\n",
    "    return np.array(preds)"
   ],
   "metadata": {
    "collapsed": false,
    "pycharm": {
     "name": "#%%\n"
    }
   }
  },
  {
   "cell_type": "markdown",
   "source": [
    "##### Training"
   ],
   "metadata": {
    "collapsed": false
   }
  },
  {
   "cell_type": "code",
   "execution_count": 218,
   "outputs": [
    {
     "name": "stderr",
     "output_type": "stream",
     "text": [
      "100%|██████████| 6000/6000 [10:51<00:00,  9.20it/s]  \n"
     ]
    }
   ],
   "source": [
    "# TRAINING\n",
    "\n",
    "BATCH_SIZE = final_X_train.shape[0]\n",
    "N_EPOCHS = 500\n",
    "EPOCHS_INFO = 50 # Each EPOCHS_INFO epochs, output info will be calculated\n",
    "\n",
    "\n",
    "net = Net3()\n",
    "training_loss, training_acc, validation_acc, finaL_training_acc, final_validation_acc = train_model_unique(\n",
    "    net,\n",
    "    final_X_train,\n",
    "    final_y_train_sep.type(torch.float),\n",
    "    final_X_val,\n",
    "    final_y_val_sep.type(torch.float),\n",
    "    BATCH_SIZE,\n",
    "    N_EPOCHS,\n",
    "    EPOCHS_INFO\n",
    ")\n",
    "\n"
   ],
   "metadata": {
    "collapsed": false,
    "pycharm": {
     "name": "#%%\n"
    }
   }
  },
  {
   "cell_type": "code",
   "execution_count": 210,
   "outputs": [
    {
     "data": {
      "text/plain": "<matplotlib.legend.Legend at 0x277b42b45c8>"
     },
     "execution_count": 210,
     "metadata": {},
     "output_type": "execute_result"
    },
    {
     "data": {
      "text/plain": "<Figure size 432x288 with 1 Axes>",
      "image/png": "[encoded data removed]"
     },
     "metadata": {
      "needs_background": "light"
     },
     "output_type": "display_data"
    },
    {
     "data": {
      "text/plain": "<Figure size 432x288 with 1 Axes>",
      "image/png": "[encoded data removed]"
     },
     "metadata": {
      "needs_background": "light"
     },
     "output_type": "display_data"
    },
    {
     "data": {
      "text/plain": "<Figure size 432x288 with 1 Axes>",
      "image/png": "[encoded data removed]"
     },
     "metadata": {
      "needs_background": "light"
     },
     "output_type": "display_data"
    }
   ],
   "source": [
    "\n",
    "plt.figure()\n",
    "plt.plot(training_loss)\n",
    "plt.title(f'Training loss')\n",
    "\n",
    "x_axis = list(range(0,N_EPOCHS,EPOCHS_INFO))\n",
    "\n",
    "plt.figure()\n",
    "plt.plot(x_axis, training_acc, label='Training acc')\n",
    "plt.plot(x_axis, validation_acc, label='Testing acc')\n",
    "plt.title(f' Partial Accuracy')\n",
    "plt.legend()\n",
    "\n",
    "plt.figure()\n",
    "plt.plot(x_axis, finaL_training_acc, label='Training acc')\n",
    "plt.plot(x_axis, final_validation_acc, label='Validation_acc')\n",
    "plt.title('Final accuracy')\n",
    "plt.legend()\n",
    "\n"
   ],
   "metadata": {
    "collapsed": false,
    "pycharm": {
     "name": "#%%\n"
    }
   }
  },
  {
   "cell_type": "code",
   "execution_count": 211,
   "outputs": [
    {
     "data": {
      "text/plain": "tensor(1.)"
     },
     "execution_count": 211,
     "metadata": {},
     "output_type": "execute_result"
    }
   ],
   "source": [
    "max(validation_acc)"
   ],
   "metadata": {
    "collapsed": false,
    "pycharm": {
     "name": "#%%\n"
    }
   }
  },
  {
   "cell_type": "code",
   "execution_count": 212,
   "outputs": [
    {
     "name": "stdout",
     "output_type": "stream",
     "text": [
      "Max final validation accuracy: 1.0\n",
      "Epoch: 1500\n"
     ]
    }
   ],
   "source": [
    "max_final_validation_acc = max(final_validation_acc)\n",
    "index_max_final_validation_acc = final_validation_acc.index(max_final_validation_acc)*EPOCHS_INFO\n",
    "\n",
    "print(f'Max final validation accuracy: {max_final_validation_acc}')\n",
    "print(f'Epoch: {index_max_final_validation_acc}')"
   ],
   "metadata": {
    "collapsed": false,
    "pycharm": {
     "name": "#%%\n"
    }
   }
  },
  {
   "cell_type": "markdown",
   "source": [
    "#### Test output"
   ],
   "metadata": {
    "collapsed": false
   }
  },
  {
   "cell_type": "code",
   "execution_count": 213,
   "outputs": [
    {
     "name": "stdout",
     "output_type": "stream",
     "text": [
      "Final training accuracy: 100.0% (0.0p)\n",
      "Final validation accuracy: 100.0% (0.0p)\n"
     ]
    }
   ],
   "source": [
    "try:\n",
    "    _ = train_acc+1\n",
    "except:\n",
    "    train_acc = 0\n",
    "    val_acc = 0\n",
    "\n",
    "# Train accuracy\n",
    "pred_train = net(final_X_train).detach().numpy()\n",
    "final_pred_train = get_pred_output(pred_train)\n",
    "previous_train_acc = train_acc\n",
    "train_acc = np.mean(final_pred_train == final_y_train_real)\n",
    "\n",
    "# Val accuracy\n",
    "pred_val = net(final_X_val).detach().numpy()\n",
    "final_pred_val = get_pred_output(pred_val)\n",
    "previous_val_acc = val_acc\n",
    "val_acc = np.mean(final_pred_val == final_y_val_real)\n",
    "\n",
    "# Output\n",
    "print(f'Final training accuracy: {round(train_acc*100,6)}% ({round((train_acc-previous_train_acc)*10000,2)}p)')\n",
    "print(f'Final validation accuracy: {round(val_acc*100,6)}% ({round((val_acc-previous_val_acc)*10000,2)}p)')\n"
   ],
   "metadata": {
    "collapsed": false,
    "pycharm": {
     "name": "#%%\n"
    }
   }
  },
  {
   "cell_type": "markdown",
   "source": [
    "### Submission"
   ],
   "metadata": {
    "collapsed": false
   }
  },
  {
   "cell_type": "code",
   "execution_count": 214,
   "outputs": [],
   "source": [
    "pred_test = net(final_X_test).detach().numpy()\n",
    "final_pred_test = get_pred_output(pred_test)"
   ],
   "metadata": {
    "collapsed": false,
    "pycharm": {
     "name": "#%%\n"
    }
   }
  },
  {
   "cell_type": "code",
   "execution_count": 215,
   "outputs": [],
   "source": [
    "# Creamos el excel final\n",
    "\n",
    "df_test_out = pd.DataFrame(index=df_test2.index, data={'Label':final_pred_test})\n",
    "df_test_out.index.name = 'ID'\n",
    "df_test_out['Label'] = df_test_out['Label'].astype(int)\n",
    "df_test_out.to_csv('test_out_0712_v5.csv')"
   ],
   "metadata": {
    "collapsed": false,
    "pycharm": {
     "name": "#%%\n"
    }
   }
  }
 ],
 "metadata": {
  "kernelspec": {
   "display_name": "Python 3",
   "language": "python",
   "name": "python3"
  },
  "language_info": {
   "codemirror_mode": {
    "name": "ipython",
    "version": 2
   },
   "file_extension": ".py",
   "mimetype": "text/x-python",
   "name": "python",
   "nbconvert_exporter": "python",
   "pygments_lexer": "ipython2",
   "version": "2.7.6"
  }
 },
 "nbformat": 4,
 "nbformat_minor": 0
}